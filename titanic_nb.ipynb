{
 "cells": [
  {
   "cell_type": "code",
   "execution_count": 1,
   "metadata": {},
   "outputs": [],
   "source": [
    "import mlflow\n",
    "from mlflow.tracking import MlflowClient\n",
    "\n",
    "import os\n",
    "import csv\n",
    "\n",
    "import pandas as pd\n",
    "import numpy as np\n",
    "import matplotlib.pyplot as plt\n",
    "import seaborn as sns\n",
    "\n",
    "from sklearn.preprocessing import LabelEncoder, StandardScaler\n",
    "from sklearn.model_selection import GridSearchCV, cross_val_score, train_test_split\n",
    "from sklearn.svm import SVC\n",
    "from sklearn.pipeline import Pipeline\n",
    "from sklearn.metrics import confusion_matrix, accuracy_score, f1_score\n",
    "from sklearn.ensemble import RandomForestClassifier\n",
    "from sklearn.feature_selection import RFECV\n",
    "import pickle, git, dvc.api"
   ]
  },
  {
   "cell_type": "markdown",
   "metadata": {},
   "source": [
    "# Load Dataset"
   ]
  },
  {
   "cell_type": "code",
   "execution_count": 2,
   "metadata": {},
   "outputs": [
    {
     "name": "stdout",
     "output_type": "stream",
     "text": [
      "<class 'pandas.core.frame.DataFrame'>\n",
      "Int64Index: 891 entries, 1 to 891\n",
      "Data columns (total 11 columns):\n",
      " #   Column    Non-Null Count  Dtype  \n",
      "---  ------    --------------  -----  \n",
      " 0   Survived  891 non-null    int64  \n",
      " 1   Pclass    891 non-null    int64  \n",
      " 2   Name      891 non-null    object \n",
      " 3   Sex       891 non-null    object \n",
      " 4   Age       714 non-null    float64\n",
      " 5   SibSp     891 non-null    int64  \n",
      " 6   Parch     891 non-null    int64  \n",
      " 7   Ticket    891 non-null    object \n",
      " 8   Fare      891 non-null    float64\n",
      " 9   Cabin     204 non-null    object \n",
      " 10  Embarked  889 non-null    object \n",
      "dtypes: float64(2), int64(4), object(5)\n",
      "memory usage: 83.5+ KB\n"
     ]
    },
    {
     "data": {
      "text/html": [
       "<div>\n",
       "<style scoped>\n",
       "    .dataframe tbody tr th:only-of-type {\n",
       "        vertical-align: middle;\n",
       "    }\n",
       "\n",
       "    .dataframe tbody tr th {\n",
       "        vertical-align: top;\n",
       "    }\n",
       "\n",
       "    .dataframe thead th {\n",
       "        text-align: right;\n",
       "    }\n",
       "</style>\n",
       "<table border=\"1\" class=\"dataframe\">\n",
       "  <thead>\n",
       "    <tr style=\"text-align: right;\">\n",
       "      <th></th>\n",
       "      <th>% of NANs</th>\n",
       "    </tr>\n",
       "  </thead>\n",
       "  <tbody>\n",
       "    <tr>\n",
       "      <th>Survived</th>\n",
       "      <td>0.0</td>\n",
       "    </tr>\n",
       "    <tr>\n",
       "      <th>Pclass</th>\n",
       "      <td>0.0</td>\n",
       "    </tr>\n",
       "    <tr>\n",
       "      <th>Name</th>\n",
       "      <td>0.0</td>\n",
       "    </tr>\n",
       "    <tr>\n",
       "      <th>Sex</th>\n",
       "      <td>0.0</td>\n",
       "    </tr>\n",
       "    <tr>\n",
       "      <th>Age</th>\n",
       "      <td>20.0</td>\n",
       "    </tr>\n",
       "    <tr>\n",
       "      <th>SibSp</th>\n",
       "      <td>0.0</td>\n",
       "    </tr>\n",
       "    <tr>\n",
       "      <th>Parch</th>\n",
       "      <td>0.0</td>\n",
       "    </tr>\n",
       "    <tr>\n",
       "      <th>Ticket</th>\n",
       "      <td>0.0</td>\n",
       "    </tr>\n",
       "    <tr>\n",
       "      <th>Fare</th>\n",
       "      <td>0.0</td>\n",
       "    </tr>\n",
       "    <tr>\n",
       "      <th>Cabin</th>\n",
       "      <td>77.0</td>\n",
       "    </tr>\n",
       "    <tr>\n",
       "      <th>Embarked</th>\n",
       "      <td>0.0</td>\n",
       "    </tr>\n",
       "  </tbody>\n",
       "</table>\n",
       "</div>"
      ],
      "text/plain": [
       "          % of NANs\n",
       "Survived        0.0\n",
       "Pclass          0.0\n",
       "Name            0.0\n",
       "Sex             0.0\n",
       "Age            20.0\n",
       "SibSp           0.0\n",
       "Parch           0.0\n",
       "Ticket          0.0\n",
       "Fare            0.0\n",
       "Cabin          77.0\n",
       "Embarked        0.0"
      ]
     },
     "metadata": {},
     "output_type": "display_data"
    }
   ],
   "source": [
    "train_data = pd.read_csv('data/train.csv', index_col=0)\n",
    "test_data = pd.read_csv('data/test.csv', index_col=0)\n",
    "train_data.info()\n",
    "display(pd.DataFrame({'% of NANs': round(train_data.isna().sum() * 100 / len(train_data))}))"
   ]
  },
  {
   "cell_type": "markdown",
   "metadata": {},
   "source": [
    "# Descriptive Analysis"
   ]
  },
  {
   "cell_type": "code",
   "execution_count": 3,
   "metadata": {},
   "outputs": [
    {
     "data": {
      "text/html": [
       "<div>\n",
       "<style scoped>\n",
       "    .dataframe tbody tr th:only-of-type {\n",
       "        vertical-align: middle;\n",
       "    }\n",
       "\n",
       "    .dataframe tbody tr th {\n",
       "        vertical-align: top;\n",
       "    }\n",
       "\n",
       "    .dataframe thead th {\n",
       "        text-align: right;\n",
       "    }\n",
       "</style>\n",
       "<table border=\"1\" class=\"dataframe\">\n",
       "  <thead>\n",
       "    <tr style=\"text-align: right;\">\n",
       "      <th></th>\n",
       "      <th>Survived</th>\n",
       "      <th>Pclass</th>\n",
       "      <th>Age</th>\n",
       "      <th>SibSp</th>\n",
       "      <th>Parch</th>\n",
       "      <th>Fare</th>\n",
       "    </tr>\n",
       "  </thead>\n",
       "  <tbody>\n",
       "    <tr>\n",
       "      <th>count</th>\n",
       "      <td>891.000000</td>\n",
       "      <td>891.000000</td>\n",
       "      <td>714.000000</td>\n",
       "      <td>891.000000</td>\n",
       "      <td>891.000000</td>\n",
       "      <td>891.000000</td>\n",
       "    </tr>\n",
       "    <tr>\n",
       "      <th>mean</th>\n",
       "      <td>0.383838</td>\n",
       "      <td>2.308642</td>\n",
       "      <td>29.699118</td>\n",
       "      <td>0.523008</td>\n",
       "      <td>0.381594</td>\n",
       "      <td>32.204208</td>\n",
       "    </tr>\n",
       "    <tr>\n",
       "      <th>std</th>\n",
       "      <td>0.486592</td>\n",
       "      <td>0.836071</td>\n",
       "      <td>14.526497</td>\n",
       "      <td>1.102743</td>\n",
       "      <td>0.806057</td>\n",
       "      <td>49.693429</td>\n",
       "    </tr>\n",
       "    <tr>\n",
       "      <th>min</th>\n",
       "      <td>0.000000</td>\n",
       "      <td>1.000000</td>\n",
       "      <td>0.420000</td>\n",
       "      <td>0.000000</td>\n",
       "      <td>0.000000</td>\n",
       "      <td>0.000000</td>\n",
       "    </tr>\n",
       "    <tr>\n",
       "      <th>25%</th>\n",
       "      <td>0.000000</td>\n",
       "      <td>2.000000</td>\n",
       "      <td>20.125000</td>\n",
       "      <td>0.000000</td>\n",
       "      <td>0.000000</td>\n",
       "      <td>7.910400</td>\n",
       "    </tr>\n",
       "    <tr>\n",
       "      <th>50%</th>\n",
       "      <td>0.000000</td>\n",
       "      <td>3.000000</td>\n",
       "      <td>28.000000</td>\n",
       "      <td>0.000000</td>\n",
       "      <td>0.000000</td>\n",
       "      <td>14.454200</td>\n",
       "    </tr>\n",
       "    <tr>\n",
       "      <th>75%</th>\n",
       "      <td>1.000000</td>\n",
       "      <td>3.000000</td>\n",
       "      <td>38.000000</td>\n",
       "      <td>1.000000</td>\n",
       "      <td>0.000000</td>\n",
       "      <td>31.000000</td>\n",
       "    </tr>\n",
       "    <tr>\n",
       "      <th>95%</th>\n",
       "      <td>1.000000</td>\n",
       "      <td>3.000000</td>\n",
       "      <td>56.000000</td>\n",
       "      <td>3.000000</td>\n",
       "      <td>2.000000</td>\n",
       "      <td>112.079150</td>\n",
       "    </tr>\n",
       "    <tr>\n",
       "      <th>max</th>\n",
       "      <td>1.000000</td>\n",
       "      <td>3.000000</td>\n",
       "      <td>80.000000</td>\n",
       "      <td>8.000000</td>\n",
       "      <td>6.000000</td>\n",
       "      <td>512.329200</td>\n",
       "    </tr>\n",
       "  </tbody>\n",
       "</table>\n",
       "</div>"
      ],
      "text/plain": [
       "         Survived      Pclass         Age       SibSp       Parch        Fare\n",
       "count  891.000000  891.000000  714.000000  891.000000  891.000000  891.000000\n",
       "mean     0.383838    2.308642   29.699118    0.523008    0.381594   32.204208\n",
       "std      0.486592    0.836071   14.526497    1.102743    0.806057   49.693429\n",
       "min      0.000000    1.000000    0.420000    0.000000    0.000000    0.000000\n",
       "25%      0.000000    2.000000   20.125000    0.000000    0.000000    7.910400\n",
       "50%      0.000000    3.000000   28.000000    0.000000    0.000000   14.454200\n",
       "75%      1.000000    3.000000   38.000000    1.000000    0.000000   31.000000\n",
       "95%      1.000000    3.000000   56.000000    3.000000    2.000000  112.079150\n",
       "max      1.000000    3.000000   80.000000    8.000000    6.000000  512.329200"
      ]
     },
     "execution_count": 3,
     "metadata": {},
     "output_type": "execute_result"
    }
   ],
   "source": [
    "train_data.describe(percentiles=[0.25, 0.5, 0.75, 0.95])"
   ]
  },
  {
   "cell_type": "code",
   "execution_count": 4,
   "metadata": {},
   "outputs": [
    {
     "name": "stdout",
     "output_type": "stream",
     "text": [
      "Value counts for `Survived` column\n"
     ]
    },
    {
     "data": {
      "text/plain": [
       "0    549\n",
       "1    342\n",
       "Name: Survived, dtype: int64"
      ]
     },
     "metadata": {},
     "output_type": "display_data"
    }
   ],
   "source": [
    "# Survived column values\n",
    "print(\"Value counts for `Survived` column\")\n",
    "display(train_data.Survived.value_counts())"
   ]
  },
  {
   "cell_type": "markdown",
   "metadata": {},
   "source": [
    "In terms of Gender, the dataset seems to be reasonably balanced. \n",
    "\n",
    "Survivability for Women was higher than for men"
   ]
  },
  {
   "cell_type": "code",
   "execution_count": 5,
   "metadata": {},
   "outputs": [
    {
     "name": "stdout",
     "output_type": "stream",
     "text": [
      "Gender value percentage:\n",
      "\n"
     ]
    },
    {
     "data": {
      "text/plain": [
       "male      0.647587\n",
       "female    0.352413\n",
       "Name: Sex, dtype: float64"
      ]
     },
     "metadata": {},
     "output_type": "display_data"
    },
    {
     "name": "stdout",
     "output_type": "stream",
     "text": [
      "Survival percentage for each gender:\n",
      "\n",
      "% of women who survived: 0.7420382165605095\n",
      "% of men who survived: 0.18890814558058924\n"
     ]
    }
   ],
   "source": [
    "print('Gender value percentage:\\n')\n",
    "display(train_data.Sex.value_counts() / len(train_data))\n",
    "\n",
    "print(\"Survival percentage for each gender:\\n\")\n",
    "\n",
    "women = train_data.loc[train_data.Sex == 'female'][\"Survived\"]\n",
    "rate_women = sum(women)/len(women)\n",
    "\n",
    "print(\"% of women who survived:\", rate_women)\n",
    "\n",
    "men = train_data.loc[train_data.Sex == 'male'][\"Survived\"]\n",
    "rate_men = sum(men)/len(men)\n",
    "\n",
    "print(\"% of men who survived:\", rate_men)"
   ]
  },
  {
   "cell_type": "markdown",
   "metadata": {},
   "source": [
    "# Visual Analysis"
   ]
  },
  {
   "cell_type": "markdown",
   "metadata": {},
   "source": [
    "The majority of passengers who paid more suvived"
   ]
  },
  {
   "cell_type": "code",
   "execution_count": 6,
   "metadata": {},
   "outputs": [
    {
     "data": {
      "text/plain": [
       "<AxesSubplot:xlabel='Fare', ylabel='Age'>"
      ]
     },
     "execution_count": 6,
     "metadata": {},
     "output_type": "execute_result"
    },
    {
     "data": {
      "image/png": "[encoded data removed]",
      "text/plain": [
       "<Figure size 432x288 with 1 Axes>"
      ]
     },
     "metadata": {
      "needs_background": "light"
     },
     "output_type": "display_data"
    }
   ],
   "source": [
    "sns.scatterplot(x='Fare', y='Age', data=train_data, hue='Survived')"
   ]
  },
  {
   "cell_type": "markdown",
   "metadata": {},
   "source": [
    "Midle Aged passengers were the most common.\n",
    "\n",
    "Ages under adults have highest survival percentages"
   ]
  },
  {
   "cell_type": "code",
   "execution_count": 7,
   "metadata": {},
   "outputs": [
    {
     "data": {
      "text/plain": [
       "<seaborn.axisgrid.FacetGrid at 0x20ae8e5e100>"
      ]
     },
     "execution_count": 7,
     "metadata": {},
     "output_type": "execute_result"
    },
    {
     "data": {
      "image/png": "[encoded data removed]",
      "text/plain": [
       "<Figure size 411.875x360 with 1 Axes>"
      ]
     },
     "metadata": {
      "needs_background": "light"
     },
     "output_type": "display_data"
    }
   ],
   "source": [
    "sns.displot(data=train_data, x='Age', hue='Survived')"
   ]
  },
  {
   "cell_type": "code",
   "execution_count": 8,
   "metadata": {},
   "outputs": [
    {
     "data": {
      "text/plain": [
       "<AxesSubplot:xlabel='Age_Category', ylabel='count'>"
      ]
     },
     "execution_count": 8,
     "metadata": {},
     "output_type": "execute_result"
    },
    {
     "data": {
      "image/png": "[encoded data removed]",
      "text/plain": [
       "<Figure size 720x432 with 1 Axes>"
      ]
     },
     "metadata": {},
     "output_type": "display_data"
    }
   ],
   "source": [
    "visualize_age = train_data[['Age', 'Survived', 'Ticket']].copy()\n",
    "visualize_age['Age_Category'] = pd.cut(\n",
    "    x=visualize_age.Age, \n",
    "    bins=[0, 2, 4, 9, 15, 21, 44, 60, 80], \n",
    "    labels=['Infant', 'Toddler', 'Child', 'Teenager', 'Adult', 'Mid-Age', 'Middle Senior', 'Old-Age'], \n",
    "    include_lowest=True)\n",
    "\n",
    "sns.set(rc={'figure.figsize':(10, 6)})\n",
    "sns.countplot(x='Age_Category', data=visualize_age, hue='Survived')"
   ]
  },
  {
   "cell_type": "code",
   "execution_count": 9,
   "metadata": {},
   "outputs": [
    {
     "data": {
      "image/png": "[encoded data removed]",
      "text/plain": [
       "<Figure size 720x432 with 1 Axes>"
      ]
     },
     "metadata": {},
     "output_type": "display_data"
    }
   ],
   "source": [
    "age_survival_perc = pd.pivot_table(columns=['Survived'], index='Age_Category', values='Ticket', aggfunc='count', data=visualize_age)\n",
    "age_survival_perc = age_survival_perc.div(age_survival_perc.sum(axis=1), axis=0)\n",
    "age_survival_perc.columns = ['Died', 'Survival_%']\n",
    "sns.barplot(x='Age_Category', y='Survival_%', data=age_survival_perc.reset_index())\n",
    "plt.show()"
   ]
  },
  {
   "cell_type": "markdown",
   "metadata": {},
   "source": [
    "Passenger class 1 had the largest Survival percentage, and Passenger class 3 had the lowest. "
   ]
  },
  {
   "cell_type": "code",
   "execution_count": 10,
   "metadata": {},
   "outputs": [
    {
     "data": {
      "text/plain": [
       "<AxesSubplot:xlabel='Pclass', ylabel='Survived'>"
      ]
     },
     "execution_count": 10,
     "metadata": {},
     "output_type": "execute_result"
    },
    {
     "data": {
      "image/png": "[encoded data removed]",
      "text/plain": [
       "<Figure size 720x432 with 1 Axes>"
      ]
     },
     "metadata": {},
     "output_type": "display_data"
    }
   ],
   "source": [
    "plt.rc('xtick', labelsize=14) \n",
    "plt.rc('ytick', labelsize=14)\n",
    "\n",
    "sns.barplot(x='Pclass', y='Survived', data=train_data)"
   ]
  },
  {
   "cell_type": "code",
   "execution_count": 11,
   "metadata": {},
   "outputs": [
    {
     "data": {
      "text/plain": [
       "<AxesSubplot:xlabel='Pclass', ylabel='Survival_%'>"
      ]
     },
     "execution_count": 11,
     "metadata": {},
     "output_type": "execute_result"
    },
    {
     "data": {
      "image/png": "[encoded data removed]",
      "text/plain": [
       "<Figure size 720x432 with 1 Axes>"
      ]
     },
     "metadata": {},
     "output_type": "display_data"
    }
   ],
   "source": [
    "class_survival_perc = pd.pivot_table(columns=['Survived'], index='Pclass', values='Ticket', aggfunc='count', data=train_data)\n",
    "class_survival_perc = class_survival_perc.div(class_survival_perc.sum(axis=1), axis=0)\n",
    "class_survival_perc.columns = ['Died', 'Survival_%']\n",
    "sns.barplot(x='Pclass', y='Survival_%', data=class_survival_perc.reset_index())"
   ]
  },
  {
   "cell_type": "markdown",
   "metadata": {},
   "source": [
    "## Parch (N_Parents / N_Children) - SibSp(Siblings / Spouses)\n",
    "Most survivors were travelling alone "
   ]
  },
  {
   "cell_type": "code",
   "execution_count": 12,
   "metadata": {},
   "outputs": [
    {
     "data": {
      "text/plain": [
       "<AxesSubplot:xlabel='SibSp', ylabel='count'>"
      ]
     },
     "execution_count": 12,
     "metadata": {},
     "output_type": "execute_result"
    },
    {
     "data": {
      "image/png": "[encoded data removed]",
      "text/plain": [
       "<Figure size 1080x432 with 2 Axes>"
      ]
     },
     "metadata": {},
     "output_type": "display_data"
    }
   ],
   "source": [
    "fig, axs = plt.subplots(nrows=1, ncols=2, figsize=(15, 6))\n",
    "sns.countplot(x='Parch', data=train_data, hue='Survived', ax=axs[0])\n",
    "sns.countplot(x='SibSp', data=train_data, hue='Survived', ax=axs[1])"
   ]
  },
  {
   "cell_type": "code",
   "execution_count": 13,
   "metadata": {},
   "outputs": [],
   "source": [
    "# Model Parameters\n",
    "RANDOM_STATE = 2\n",
    "MAX_DEPTH = 3\n",
    "N_ESTIMATORS = 250"
   ]
  },
  {
   "cell_type": "code",
   "execution_count": 14,
   "metadata": {},
   "outputs": [],
   "source": [
    "features = [\"Pclass\", \"Sex\", \"SibSp\", \"Parch\"]\n",
    "X = pd.get_dummies(train_data[features])\n",
    "y = train_data[\"Survived\"]\n",
    "\n",
    "# Split train and test data \n",
    "X_train, X_test, y_train, y_test = train_test_split(X, \n",
    "                                                    y, \n",
    "                                                    test_size=0.3, \n",
    "                                                    random_state=RANDOM_STATE)"
   ]
  },
  {
   "cell_type": "code",
   "execution_count": 15,
   "metadata": {},
   "outputs": [
    {
     "data": {
      "text/plain": [
       "RandomForestClassifier(max_depth=3, n_estimators=250, random_state=2)"
      ]
     },
     "execution_count": 15,
     "metadata": {},
     "output_type": "execute_result"
    }
   ],
   "source": [
    "# Training\n",
    "model = RandomForestClassifier(n_estimators=N_ESTIMATORS, max_depth=MAX_DEPTH, random_state=RANDOM_STATE)\n",
    "model.fit(X_train, y_train)\n"
   ]
  },
  {
   "cell_type": "code",
   "execution_count": 16,
   "metadata": {},
   "outputs": [
    {
     "name": "stdout",
     "output_type": "stream",
     "text": [
      "Accuracy: 0.7873134328358209 | F1 Score: 0.6984126984126984\n"
     ]
    }
   ],
   "source": [
    "# Evaluation Metrics\n",
    "y_pred = model.predict(X_test)\n",
    "accuracy = accuracy_score(y_test, y_pred)\n",
    "f1 = f1_score(y_test, y_pred)\n",
    "\n",
    "print(f\"Accuracy: {accuracy} | F1 Score: {f1}\")"
   ]
  },
  {
   "cell_type": "markdown",
   "metadata": {},
   "source": [
    "# Track with MLflow"
   ]
  },
  {
   "cell_type": "code",
   "execution_count": 17,
   "metadata": {},
   "outputs": [],
   "source": [
    "EXPERIMENT_NAME = \"titanic_exp\"\n",
    "EXPORT_MODEL_PATH = \"titanic_model.pkl\"\n"
   ]
  },
  {
   "cell_type": "code",
   "execution_count": 18,
   "metadata": {},
   "outputs": [],
   "source": [
    "# Export model\n",
    "with open(EXPORT_MODEL_PATH, 'wb') as handle:\n",
    "    pickle.dump(model, handle)"
   ]
  },
  {
   "cell_type": "code",
   "execution_count": 19,
   "metadata": {},
   "outputs": [
    {
     "name": "stdout",
     "output_type": "stream",
     "text": [
      "Repo at {} successfully loaded.\n",
      "Repository description: Unnamed repository; edit this file 'description' to name the repository.\n",
      "Repository active branch is main\n",
      "Remote named \"origin\" with URL \"https://github.com/Omar-Safwat/MLflow-and-dvc-example.git\"\n",
      "Last commit for repository is af3487267ca563d23b04892c101fabe0749b31c3.\n",
      "----Commits---\n",
      "[<git.Commit \"af3487267ca563d23b04892c101fabe0749b31c3\">, <git.Commit \"faa533fe0d272351b7bc6215f20fe1475492ae6d\">, <git.Commit \"888acd19578438ef462870b55a1dc761a362d823\">, <git.Commit \"fcc24a35a2c20d9be764466dc7c0fd72fc3eafc2\">, <git.Commit \"4812fb2711e7b4af0d835ac104209dae5819053d\">, <git.Commit \"0746f704c0be021def744bda5a954d27b2428bd0\">, <git.Commit \"75c06f6b399ee60ff9c795e4f6e014e3a1194b1b\">, <git.Commit \"cc11c7aff37132b20ff6735f73391c21fc6fd512\">, <git.Commit \"dd5285400af017bc667cd910c8e629fc7f43ea5d\">, <git.Commit \"1aa4dcf8f0822c8c885caa77b3e97eee120c51c1\">]\n",
      "length of commits\n",
      "10\n",
      "Number is 0!\n",
      "-----\n",
      "af3487267ca563d23b04892c101fabe0749b31c3\n",
      "\"Finishing DVC example\" by mohamed-elmelegy (mohamedelmelegy0@outlook.com)\n",
      "2021-12-06 21:02:36+02:00\n",
      "count: 10 and size: 264\n",
      "Number is 1!\n",
      "-----\n",
      "faa533fe0d272351b7bc6215f20fe1475492ae6d\n",
      "\"DATA: track\" by mohamed-elmelegy (mohamedelmelegy0@outlook.com)\n",
      "2021-12-06 20:46:42+02:00\n",
      "count: 9 and size: 254\n",
      "Number is 2!\n",
      "-----\n",
      "888acd19578438ef462870b55a1dc761a362d823\n",
      "\"gitignore\" by mohamed-elmelegy (mohamedelmelegy0@outlook.com)\n",
      "2021-12-06 20:39:02+02:00\n",
      "count: 8 and size: 252\n",
      "Number is 3!\n",
      "-----\n",
      "fcc24a35a2c20d9be764466dc7c0fd72fc3eafc2\n",
      "\"stop tracking data\\train.csv\" by mohamed-elmelegy (mohamedelmelegy0@outlook.com)\n",
      "2021-12-06 20:25:53+02:00\n",
      "count: 7 and size: 271\n",
      "Number is 4!\n",
      "-----\n",
      "4812fb2711e7b4af0d835ac104209dae5819053d\n",
      "\"configure remote storage\" by mohamed-elmelegy (mohamedelmelegy0@outlook.com)\n",
      "2021-12-06 20:20:29+02:00\n",
      "count: 6 and size: 267\n",
      "Number is 5!\n",
      "-----\n",
      "0746f704c0be021def744bda5a954d27b2428bd0\n",
      "\"Adding date version control (DVC)\" by mohamed-elmelegy (mohamedelmelegy0@outlook.com)\n",
      "2021-12-06 20:15:02+02:00\n",
      "count: 5 and size: 276\n",
      "Number is 6!\n",
      "-----\n",
      "75c06f6b399ee60ff9c795e4f6e014e3a1194b1b\n",
      "\"Merge branch 'main' of https://github.com/Omar-Safwat/MLflow-and-dvc-example\" by mohamed-elmelegy (mohamedelmelegy0@outlook.com)\n",
      "2021-12-06 19:38:50+02:00\n",
      "count: 4 and size: 367\n",
      "Number is 7!\n",
      "-----\n",
      "cc11c7aff37132b20ff6735f73391c21fc6fd512\n",
      "\"model tracking using MLflow\" by mohamed-elmelegy (mohamedelmelegy0@outlook.com)\n",
      "2021-12-06 19:38:43+02:00\n",
      "count: 2 and size: 270\n",
      "Number is 8!\n",
      "-----\n",
      "dd5285400af017bc667cd910c8e629fc7f43ea5d\n",
      "\"Add files via upload\" by Omar-Safwat (73256703+Omar-Safwat@users.noreply.github.com)\n",
      "2021-12-06 19:29:55+02:00\n",
      "count: 2 and size: 751\n",
      "Number is 9!\n",
      "-----\n",
      "1aa4dcf8f0822c8c885caa77b3e97eee120c51c1\n",
      "\"Upload Model notebook and data\" by Omar-Safwat (73256703+Omar-Safwat@users.noreply.github.com)\n",
      "2021-12-06 18:14:48+02:00\n",
      "count: 1 and size: 689\n",
      "rev1\n",
      "\n",
      "-----\n",
      "data\\61\\fdd54abdbf6a85b778e937122e1194\n",
      "891\n"
     ]
    },
    {
     "data": {
      "text/html": [
       "<div>\n",
       "<style scoped>\n",
       "    .dataframe tbody tr th:only-of-type {\n",
       "        vertical-align: middle;\n",
       "    }\n",
       "\n",
       "    .dataframe tbody tr th {\n",
       "        vertical-align: top;\n",
       "    }\n",
       "\n",
       "    .dataframe thead th {\n",
       "        text-align: right;\n",
       "    }\n",
       "</style>\n",
       "<table border=\"1\" class=\"dataframe\">\n",
       "  <thead>\n",
       "    <tr style=\"text-align: right;\">\n",
       "      <th></th>\n",
       "      <th>PassengerId</th>\n",
       "      <th>Survived</th>\n",
       "      <th>Pclass</th>\n",
       "      <th>Name</th>\n",
       "      <th>Sex</th>\n",
       "      <th>Age</th>\n",
       "      <th>SibSp</th>\n",
       "      <th>Parch</th>\n",
       "      <th>Ticket</th>\n",
       "      <th>Fare</th>\n",
       "      <th>Cabin</th>\n",
       "      <th>Embarked</th>\n",
       "    </tr>\n",
       "  </thead>\n",
       "  <tbody>\n",
       "    <tr>\n",
       "      <th>0</th>\n",
       "      <td>1</td>\n",
       "      <td>0</td>\n",
       "      <td>3</td>\n",
       "      <td>Braund, Mr. Owen Harris</td>\n",
       "      <td>male</td>\n",
       "      <td>22.0</td>\n",
       "      <td>1</td>\n",
       "      <td>0</td>\n",
       "      <td>A/5 21171</td>\n",
       "      <td>7.2500</td>\n",
       "      <td>NaN</td>\n",
       "      <td>S</td>\n",
       "    </tr>\n",
       "    <tr>\n",
       "      <th>1</th>\n",
       "      <td>2</td>\n",
       "      <td>1</td>\n",
       "      <td>1</td>\n",
       "      <td>Cumings, Mrs. John Bradley (Florence Briggs Th...</td>\n",
       "      <td>female</td>\n",
       "      <td>38.0</td>\n",
       "      <td>1</td>\n",
       "      <td>0</td>\n",
       "      <td>PC 17599</td>\n",
       "      <td>71.2833</td>\n",
       "      <td>C85</td>\n",
       "      <td>C</td>\n",
       "    </tr>\n",
       "    <tr>\n",
       "      <th>2</th>\n",
       "      <td>3</td>\n",
       "      <td>1</td>\n",
       "      <td>3</td>\n",
       "      <td>Heikkinen, Miss. Laina</td>\n",
       "      <td>female</td>\n",
       "      <td>26.0</td>\n",
       "      <td>0</td>\n",
       "      <td>0</td>\n",
       "      <td>STON/O2. 3101282</td>\n",
       "      <td>7.9250</td>\n",
       "      <td>NaN</td>\n",
       "      <td>S</td>\n",
       "    </tr>\n",
       "    <tr>\n",
       "      <th>3</th>\n",
       "      <td>4</td>\n",
       "      <td>1</td>\n",
       "      <td>1</td>\n",
       "      <td>Futrelle, Mrs. Jacques Heath (Lily May Peel)</td>\n",
       "      <td>female</td>\n",
       "      <td>35.0</td>\n",
       "      <td>1</td>\n",
       "      <td>0</td>\n",
       "      <td>113803</td>\n",
       "      <td>53.1000</td>\n",
       "      <td>C123</td>\n",
       "      <td>S</td>\n",
       "    </tr>\n",
       "    <tr>\n",
       "      <th>4</th>\n",
       "      <td>5</td>\n",
       "      <td>0</td>\n",
       "      <td>3</td>\n",
       "      <td>Allen, Mr. William Henry</td>\n",
       "      <td>male</td>\n",
       "      <td>35.0</td>\n",
       "      <td>0</td>\n",
       "      <td>0</td>\n",
       "      <td>373450</td>\n",
       "      <td>8.0500</td>\n",
       "      <td>NaN</td>\n",
       "      <td>S</td>\n",
       "    </tr>\n",
       "    <tr>\n",
       "      <th>...</th>\n",
       "      <td>...</td>\n",
       "      <td>...</td>\n",
       "      <td>...</td>\n",
       "      <td>...</td>\n",
       "      <td>...</td>\n",
       "      <td>...</td>\n",
       "      <td>...</td>\n",
       "      <td>...</td>\n",
       "      <td>...</td>\n",
       "      <td>...</td>\n",
       "      <td>...</td>\n",
       "      <td>...</td>\n",
       "    </tr>\n",
       "    <tr>\n",
       "      <th>886</th>\n",
       "      <td>887</td>\n",
       "      <td>0</td>\n",
       "      <td>2</td>\n",
       "      <td>Montvila, Rev. Juozas</td>\n",
       "      <td>male</td>\n",
       "      <td>27.0</td>\n",
       "      <td>0</td>\n",
       "      <td>0</td>\n",
       "      <td>211536</td>\n",
       "      <td>13.0000</td>\n",
       "      <td>NaN</td>\n",
       "      <td>S</td>\n",
       "    </tr>\n",
       "    <tr>\n",
       "      <th>887</th>\n",
       "      <td>888</td>\n",
       "      <td>1</td>\n",
       "      <td>1</td>\n",
       "      <td>Graham, Miss. Margaret Edith</td>\n",
       "      <td>female</td>\n",
       "      <td>19.0</td>\n",
       "      <td>0</td>\n",
       "      <td>0</td>\n",
       "      <td>112053</td>\n",
       "      <td>30.0000</td>\n",
       "      <td>B42</td>\n",
       "      <td>S</td>\n",
       "    </tr>\n",
       "    <tr>\n",
       "      <th>888</th>\n",
       "      <td>889</td>\n",
       "      <td>0</td>\n",
       "      <td>3</td>\n",
       "      <td>Johnston, Miss. Catherine Helen \"Carrie\"</td>\n",
       "      <td>female</td>\n",
       "      <td>NaN</td>\n",
       "      <td>1</td>\n",
       "      <td>2</td>\n",
       "      <td>W./C. 6607</td>\n",
       "      <td>23.4500</td>\n",
       "      <td>NaN</td>\n",
       "      <td>S</td>\n",
       "    </tr>\n",
       "    <tr>\n",
       "      <th>889</th>\n",
       "      <td>890</td>\n",
       "      <td>1</td>\n",
       "      <td>1</td>\n",
       "      <td>Behr, Mr. Karl Howell</td>\n",
       "      <td>male</td>\n",
       "      <td>26.0</td>\n",
       "      <td>0</td>\n",
       "      <td>0</td>\n",
       "      <td>111369</td>\n",
       "      <td>30.0000</td>\n",
       "      <td>C148</td>\n",
       "      <td>C</td>\n",
       "    </tr>\n",
       "    <tr>\n",
       "      <th>890</th>\n",
       "      <td>891</td>\n",
       "      <td>0</td>\n",
       "      <td>3</td>\n",
       "      <td>Dooley, Mr. Patrick</td>\n",
       "      <td>male</td>\n",
       "      <td>32.0</td>\n",
       "      <td>0</td>\n",
       "      <td>0</td>\n",
       "      <td>370376</td>\n",
       "      <td>7.7500</td>\n",
       "      <td>NaN</td>\n",
       "      <td>Q</td>\n",
       "    </tr>\n",
       "  </tbody>\n",
       "</table>\n",
       "<p>891 rows × 12 columns</p>\n",
       "</div>"
      ],
      "text/plain": [
       "     PassengerId  Survived  Pclass  \\\n",
       "0              1         0       3   \n",
       "1              2         1       1   \n",
       "2              3         1       3   \n",
       "3              4         1       1   \n",
       "4              5         0       3   \n",
       "..           ...       ...     ...   \n",
       "886          887         0       2   \n",
       "887          888         1       1   \n",
       "888          889         0       3   \n",
       "889          890         1       1   \n",
       "890          891         0       3   \n",
       "\n",
       "                                                  Name     Sex   Age  SibSp  \\\n",
       "0                              Braund, Mr. Owen Harris    male  22.0      1   \n",
       "1    Cumings, Mrs. John Bradley (Florence Briggs Th...  female  38.0      1   \n",
       "2                               Heikkinen, Miss. Laina  female  26.0      0   \n",
       "3         Futrelle, Mrs. Jacques Heath (Lily May Peel)  female  35.0      1   \n",
       "4                             Allen, Mr. William Henry    male  35.0      0   \n",
       "..                                                 ...     ...   ...    ...   \n",
       "886                              Montvila, Rev. Juozas    male  27.0      0   \n",
       "887                       Graham, Miss. Margaret Edith  female  19.0      0   \n",
       "888           Johnston, Miss. Catherine Helen \"Carrie\"  female   NaN      1   \n",
       "889                              Behr, Mr. Karl Howell    male  26.0      0   \n",
       "890                                Dooley, Mr. Patrick    male  32.0      0   \n",
       "\n",
       "     Parch            Ticket     Fare Cabin Embarked  \n",
       "0        0         A/5 21171   7.2500   NaN        S  \n",
       "1        0          PC 17599  71.2833   C85        C  \n",
       "2        0  STON/O2. 3101282   7.9250   NaN        S  \n",
       "3        0            113803  53.1000  C123        S  \n",
       "4        0            373450   8.0500   NaN        S  \n",
       "..     ...               ...      ...   ...      ...  \n",
       "886      0            211536  13.0000   NaN        S  \n",
       "887      0            112053  30.0000   B42        S  \n",
       "888      2        W./C. 6607  23.4500   NaN        S  \n",
       "889      0            111369  30.0000  C148        C  \n",
       "890      0            370376   7.7500   NaN        Q  \n",
       "\n",
       "[891 rows x 12 columns]"
      ]
     },
     "metadata": {},
     "output_type": "display_data"
    }
   ],
   "source": [
    "repo = git.Repo(r\"./\")\n",
    "\n",
    "def print_repository_info(repo):\n",
    "    print('Repository description: {}'.format(repo.description))\n",
    "    print('Repository active branch is {}'.format(repo.active_branch))\n",
    "\n",
    "    for remote in repo.remotes:\n",
    "        print('Remote named \"{}\" with URL \"{}\"'.format(remote, remote.url))\n",
    "\n",
    "    print('Last commit for repository is {}.'.format(str(repo.head.commit.hexsha)))\n",
    "\n",
    "    \n",
    "def print_commit_data(commit, req_ver): \n",
    "\n",
    "    print('-----')\n",
    "    print(str(commit.hexsha))\n",
    "    print(\"\\\"{}\\\" by {} ({})\".format(commit.summary, commit.author.name, commit.author.email))\n",
    "    print(str(commit.authored_datetime))\n",
    "    print(str(\"count: {} and size: {}\".format(commit.count(), commit.size)))    \n",
    "    if req_ver in commit.summary:\n",
    "        return(str(commit.hexsha))\n",
    "    else :\n",
    "        return(\"\")\n",
    "    \n",
    "    \n",
    "    \n",
    "\n",
    "# check that the repository loaded correctly\n",
    "if not repo.bare:\n",
    "    print('Repo at {} successfully loaded.')\n",
    "    print_repository_info(repo)\n",
    "    COMMITS_TO_PRINT = 10\n",
    "    MAIN_BRANCH='main'\n",
    "    \n",
    "    # create list of commits then print some of them to stdout\n",
    "    commits = list(repo.iter_commits(MAIN_BRANCH))[:COMMITS_TO_PRINT]\n",
    "    print(\"----Commits---\")\n",
    "    print(commits)\n",
    "    print(\"length of commits\")\n",
    "    print(len(commits))\n",
    "    number = 0\n",
    "    rev1 = \"\"\n",
    "    req_ver = \"v1\"\n",
    "    while ((number < len(commits)) and rev1 == \"\"):\n",
    "        print(f\"Number is {number}!\")\n",
    "        rev1 = print_commit_data(commits[number], req_ver)\n",
    "        number = number + 1\n",
    "        \n",
    "    \n",
    "    print(\"rev1\")\n",
    "    print(rev1)\n",
    "\n",
    "    resource_url2 = dvc.api.get_url(\n",
    "    'data/train.csv',\n",
    "    repo = r\"./\",\n",
    "    rev = rev1\n",
    "    )\n",
    "    print('-----')\n",
    "    print(resource_url2)    \n",
    "        \n",
    "    df = pd.read_csv(resource_url2, sep=',')\n",
    "    print(len(df))\n",
    "    display(df)    \n",
    "\n",
    "    \n",
    "    \n",
    "    remote_server_uri = \"http://127.0.0.1:5000\" # set to your server URI\n",
    "    mlflow.set_tracking_uri(remote_server_uri)\n",
    "\n",
    "    # Initialize client and experiment\n",
    "    client = MlflowClient()\n",
    "    mlflow.set_experiment(EXPERIMENT_NAME)\n",
    "    exp = client.get_experiment_by_name(EXPERIMENT_NAME)\n",
    "\n",
    "    # Start a new run and track \n",
    "    with mlflow.start_run(experiment_id=exp.experiment_id):\n",
    "        mlflow.log_param(\"n_estimators\", N_ESTIMATORS)      # Track model parameter\n",
    "        mlflow.log_param(\"max_depth\", MAX_DEPTH)            # Track model parameter\n",
    "        mlflow.log_metric(\"accuracy\", accuracy)             # Track error value\n",
    "        mlflow.log_metric(\"f1_score\", f1)                   # Track error value\n",
    "        mlflow.log_artifact(EXPORT_MODEL_PATH)              # Track exported model\n",
    "else:\n",
    "    print('Could not load repository')"
   ]
  },
  {
   "cell_type": "markdown",
   "metadata": {},
   "source": [
    "# Retrieve Experiment"
   ]
  },
  {
   "cell_type": "code",
   "execution_count": 20,
   "metadata": {},
   "outputs": [
    {
     "data": {
      "text/html": [
       "<div>\n",
       "<style scoped>\n",
       "    .dataframe tbody tr th:only-of-type {\n",
       "        vertical-align: middle;\n",
       "    }\n",
       "\n",
       "    .dataframe tbody tr th {\n",
       "        vertical-align: top;\n",
       "    }\n",
       "\n",
       "    .dataframe thead th {\n",
       "        text-align: right;\n",
       "    }\n",
       "</style>\n",
       "<table border=\"1\" class=\"dataframe\">\n",
       "  <thead>\n",
       "    <tr style=\"text-align: right;\">\n",
       "      <th></th>\n",
       "      <th>run_id</th>\n",
       "      <th>experiment_id</th>\n",
       "      <th>status</th>\n",
       "      <th>artifact_uri</th>\n",
       "      <th>start_time</th>\n",
       "      <th>end_time</th>\n",
       "      <th>metrics.f1_score</th>\n",
       "      <th>metrics.accuracy</th>\n",
       "      <th>params.n_estimators</th>\n",
       "      <th>params.max_depth</th>\n",
       "      <th>tags.mlflow.source.name</th>\n",
       "      <th>tags.mlflow.user</th>\n",
       "      <th>tags.mlflow.source.type</th>\n",
       "    </tr>\n",
       "  </thead>\n",
       "  <tbody>\n",
       "    <tr>\n",
       "      <th>0</th>\n",
       "      <td>8723ccc1e8c44b7f8b606e6d3c1df78a</td>\n",
       "      <td>1</td>\n",
       "      <td>FINISHED</td>\n",
       "      <td>file:///D:/Me/Codes/Jupyter%20Notebooks/ITI%20...</td>\n",
       "      <td>2021-12-06 19:30:12.614000+00:00</td>\n",
       "      <td>2021-12-06 19:30:12.902000+00:00</td>\n",
       "      <td>0.698413</td>\n",
       "      <td>0.787313</td>\n",
       "      <td>250</td>\n",
       "      <td>3</td>\n",
       "      <td>C:\\Users\\moham\\anaconda3\\lib\\site-packages\\ipy...</td>\n",
       "      <td>moham</td>\n",
       "      <td>LOCAL</td>\n",
       "    </tr>\n",
       "    <tr>\n",
       "      <th>1</th>\n",
       "      <td>e30206759abb4bdbaa263ac921729f86</td>\n",
       "      <td>1</td>\n",
       "      <td>FINISHED</td>\n",
       "      <td>file:///D:/Me/Codes/Jupyter%20Notebooks/ITI%20...</td>\n",
       "      <td>2021-12-06 19:28:21.775000+00:00</td>\n",
       "      <td>2021-12-06 19:28:22.137000+00:00</td>\n",
       "      <td>0.698413</td>\n",
       "      <td>0.787313</td>\n",
       "      <td>250</td>\n",
       "      <td>3</td>\n",
       "      <td>C:\\Users\\moham\\anaconda3\\lib\\site-packages\\ipy...</td>\n",
       "      <td>moham</td>\n",
       "      <td>LOCAL</td>\n",
       "    </tr>\n",
       "    <tr>\n",
       "      <th>2</th>\n",
       "      <td>1cfcee6ea7d34276bced1ed632233e16</td>\n",
       "      <td>1</td>\n",
       "      <td>FINISHED</td>\n",
       "      <td>file:///D:/Me/Codes/Jupyter%20Notebooks/ITI%20...</td>\n",
       "      <td>2021-12-06 19:19:05.752000+00:00</td>\n",
       "      <td>2021-12-06 19:19:06.081000+00:00</td>\n",
       "      <td>0.698413</td>\n",
       "      <td>0.787313</td>\n",
       "      <td>250</td>\n",
       "      <td>3</td>\n",
       "      <td>C:\\Users\\moham\\anaconda3\\lib\\site-packages\\ipy...</td>\n",
       "      <td>moham</td>\n",
       "      <td>LOCAL</td>\n",
       "    </tr>\n",
       "    <tr>\n",
       "      <th>3</th>\n",
       "      <td>076ee98fbaee4cae8703133cd644c976</td>\n",
       "      <td>1</td>\n",
       "      <td>FINISHED</td>\n",
       "      <td>file:///D:/Me/Codes/Jupyter%20Notebooks/ITI%20...</td>\n",
       "      <td>2021-12-06 17:18:14.537000+00:00</td>\n",
       "      <td>2021-12-06 17:18:14.705000+00:00</td>\n",
       "      <td>0.698413</td>\n",
       "      <td>0.787313</td>\n",
       "      <td>250</td>\n",
       "      <td>3</td>\n",
       "      <td>C:\\Users\\moham\\anaconda3\\lib\\site-packages\\ipy...</td>\n",
       "      <td>moham</td>\n",
       "      <td>LOCAL</td>\n",
       "    </tr>\n",
       "    <tr>\n",
       "      <th>4</th>\n",
       "      <td>665d5e27db4a4e08a46b2dea1793dba6</td>\n",
       "      <td>1</td>\n",
       "      <td>FINISHED</td>\n",
       "      <td>file:///D:/Me/Codes/Jupyter%20Notebooks/ITI%20...</td>\n",
       "      <td>2021-12-06 17:17:47.911000+00:00</td>\n",
       "      <td>2021-12-06 17:17:48.192000+00:00</td>\n",
       "      <td>0.644068</td>\n",
       "      <td>0.764925</td>\n",
       "      <td>300</td>\n",
       "      <td>7</td>\n",
       "      <td>C:\\Users\\moham\\anaconda3\\lib\\site-packages\\ipy...</td>\n",
       "      <td>moham</td>\n",
       "      <td>LOCAL</td>\n",
       "    </tr>\n",
       "    <tr>\n",
       "      <th>5</th>\n",
       "      <td>2733b416712443768656cb7e19b74ec2</td>\n",
       "      <td>1</td>\n",
       "      <td>FINISHED</td>\n",
       "      <td>file:///D:/Me/Codes/Jupyter%20Notebooks/ITI%20...</td>\n",
       "      <td>2021-12-06 17:17:28.630000+00:00</td>\n",
       "      <td>2021-12-06 17:17:28.839000+00:00</td>\n",
       "      <td>0.644068</td>\n",
       "      <td>0.764925</td>\n",
       "      <td>100</td>\n",
       "      <td>7</td>\n",
       "      <td>C:\\Users\\moham\\anaconda3\\lib\\site-packages\\ipy...</td>\n",
       "      <td>moham</td>\n",
       "      <td>LOCAL</td>\n",
       "    </tr>\n",
       "    <tr>\n",
       "      <th>6</th>\n",
       "      <td>d0834eb216cb4fdab1eb84324700de47</td>\n",
       "      <td>1</td>\n",
       "      <td>FINISHED</td>\n",
       "      <td>file:///D:/Me/Codes/Jupyter%20Notebooks/ITI%20...</td>\n",
       "      <td>2021-12-06 17:16:28.711000+00:00</td>\n",
       "      <td>2021-12-06 17:16:28.847000+00:00</td>\n",
       "      <td>0.666667</td>\n",
       "      <td>0.772388</td>\n",
       "      <td>500</td>\n",
       "      <td>5</td>\n",
       "      <td>C:\\Users\\moham\\anaconda3\\lib\\site-packages\\ipy...</td>\n",
       "      <td>moham</td>\n",
       "      <td>LOCAL</td>\n",
       "    </tr>\n",
       "    <tr>\n",
       "      <th>7</th>\n",
       "      <td>cf178e56f3ef4ad08e653dbbdb8f503c</td>\n",
       "      <td>1</td>\n",
       "      <td>FINISHED</td>\n",
       "      <td>file:///D:/Me/Codes/Jupyter%20Notebooks/ITI%20...</td>\n",
       "      <td>2021-12-06 17:07:21.807000+00:00</td>\n",
       "      <td>2021-12-06 17:07:22.129000+00:00</td>\n",
       "      <td>0.698413</td>\n",
       "      <td>0.787313</td>\n",
       "      <td>100</td>\n",
       "      <td>3</td>\n",
       "      <td>C:\\Users\\moham\\anaconda3\\lib\\site-packages\\ipy...</td>\n",
       "      <td>moham</td>\n",
       "      <td>LOCAL</td>\n",
       "    </tr>\n",
       "    <tr>\n",
       "      <th>8</th>\n",
       "      <td>c3e5b58242eb4e73bcef6dbefd682a47</td>\n",
       "      <td>1</td>\n",
       "      <td>FAILED</td>\n",
       "      <td>file:///D:/Me/Codes/Jupyter%20Notebooks/ITI%20...</td>\n",
       "      <td>2021-12-06 17:05:36.557000+00:00</td>\n",
       "      <td>2021-12-06 17:05:36.779000+00:00</td>\n",
       "      <td>0.698413</td>\n",
       "      <td>0.787313</td>\n",
       "      <td>100</td>\n",
       "      <td>3</td>\n",
       "      <td>C:\\Users\\moham\\anaconda3\\lib\\site-packages\\ipy...</td>\n",
       "      <td>moham</td>\n",
       "      <td>LOCAL</td>\n",
       "    </tr>\n",
       "  </tbody>\n",
       "</table>\n",
       "</div>"
      ],
      "text/plain": [
       "                             run_id experiment_id    status  \\\n",
       "0  8723ccc1e8c44b7f8b606e6d3c1df78a             1  FINISHED   \n",
       "1  e30206759abb4bdbaa263ac921729f86             1  FINISHED   \n",
       "2  1cfcee6ea7d34276bced1ed632233e16             1  FINISHED   \n",
       "3  076ee98fbaee4cae8703133cd644c976             1  FINISHED   \n",
       "4  665d5e27db4a4e08a46b2dea1793dba6             1  FINISHED   \n",
       "5  2733b416712443768656cb7e19b74ec2             1  FINISHED   \n",
       "6  d0834eb216cb4fdab1eb84324700de47             1  FINISHED   \n",
       "7  cf178e56f3ef4ad08e653dbbdb8f503c             1  FINISHED   \n",
       "8  c3e5b58242eb4e73bcef6dbefd682a47             1    FAILED   \n",
       "\n",
       "                                        artifact_uri  \\\n",
       "0  file:///D:/Me/Codes/Jupyter%20Notebooks/ITI%20...   \n",
       "1  file:///D:/Me/Codes/Jupyter%20Notebooks/ITI%20...   \n",
       "2  file:///D:/Me/Codes/Jupyter%20Notebooks/ITI%20...   \n",
       "3  file:///D:/Me/Codes/Jupyter%20Notebooks/ITI%20...   \n",
       "4  file:///D:/Me/Codes/Jupyter%20Notebooks/ITI%20...   \n",
       "5  file:///D:/Me/Codes/Jupyter%20Notebooks/ITI%20...   \n",
       "6  file:///D:/Me/Codes/Jupyter%20Notebooks/ITI%20...   \n",
       "7  file:///D:/Me/Codes/Jupyter%20Notebooks/ITI%20...   \n",
       "8  file:///D:/Me/Codes/Jupyter%20Notebooks/ITI%20...   \n",
       "\n",
       "                        start_time                         end_time  \\\n",
       "0 2021-12-06 19:30:12.614000+00:00 2021-12-06 19:30:12.902000+00:00   \n",
       "1 2021-12-06 19:28:21.775000+00:00 2021-12-06 19:28:22.137000+00:00   \n",
       "2 2021-12-06 19:19:05.752000+00:00 2021-12-06 19:19:06.081000+00:00   \n",
       "3 2021-12-06 17:18:14.537000+00:00 2021-12-06 17:18:14.705000+00:00   \n",
       "4 2021-12-06 17:17:47.911000+00:00 2021-12-06 17:17:48.192000+00:00   \n",
       "5 2021-12-06 17:17:28.630000+00:00 2021-12-06 17:17:28.839000+00:00   \n",
       "6 2021-12-06 17:16:28.711000+00:00 2021-12-06 17:16:28.847000+00:00   \n",
       "7 2021-12-06 17:07:21.807000+00:00 2021-12-06 17:07:22.129000+00:00   \n",
       "8 2021-12-06 17:05:36.557000+00:00 2021-12-06 17:05:36.779000+00:00   \n",
       "\n",
       "   metrics.f1_score  metrics.accuracy params.n_estimators params.max_depth  \\\n",
       "0          0.698413          0.787313                 250                3   \n",
       "1          0.698413          0.787313                 250                3   \n",
       "2          0.698413          0.787313                 250                3   \n",
       "3          0.698413          0.787313                 250                3   \n",
       "4          0.644068          0.764925                 300                7   \n",
       "5          0.644068          0.764925                 100                7   \n",
       "6          0.666667          0.772388                 500                5   \n",
       "7          0.698413          0.787313                 100                3   \n",
       "8          0.698413          0.787313                 100                3   \n",
       "\n",
       "                             tags.mlflow.source.name tags.mlflow.user  \\\n",
       "0  C:\\Users\\moham\\anaconda3\\lib\\site-packages\\ipy...            moham   \n",
       "1  C:\\Users\\moham\\anaconda3\\lib\\site-packages\\ipy...            moham   \n",
       "2  C:\\Users\\moham\\anaconda3\\lib\\site-packages\\ipy...            moham   \n",
       "3  C:\\Users\\moham\\anaconda3\\lib\\site-packages\\ipy...            moham   \n",
       "4  C:\\Users\\moham\\anaconda3\\lib\\site-packages\\ipy...            moham   \n",
       "5  C:\\Users\\moham\\anaconda3\\lib\\site-packages\\ipy...            moham   \n",
       "6  C:\\Users\\moham\\anaconda3\\lib\\site-packages\\ipy...            moham   \n",
       "7  C:\\Users\\moham\\anaconda3\\lib\\site-packages\\ipy...            moham   \n",
       "8  C:\\Users\\moham\\anaconda3\\lib\\site-packages\\ipy...            moham   \n",
       "\n",
       "  tags.mlflow.source.type  \n",
       "0                   LOCAL  \n",
       "1                   LOCAL  \n",
       "2                   LOCAL  \n",
       "3                   LOCAL  \n",
       "4                   LOCAL  \n",
       "5                   LOCAL  \n",
       "6                   LOCAL  \n",
       "7                   LOCAL  \n",
       "8                   LOCAL  "
      ]
     },
     "execution_count": 20,
     "metadata": {},
     "output_type": "execute_result"
    }
   ],
   "source": [
    "# Get experiment\n",
    "exp = client.get_experiment_by_name(EXPERIMENT_NAME)\n",
    "\n",
    "# Get all runs \n",
    "runs = mlflow.search_runs([exp.experiment_id])\n",
    "runs"
   ]
  },
  {
   "cell_type": "markdown",
   "metadata": {},
   "source": [
    "# Retrieve Best Model"
   ]
  },
  {
   "cell_type": "code",
   "execution_count": 21,
   "metadata": {},
   "outputs": [
    {
     "data": {
      "text/plain": [
       "run_id                                      665d5e27db4a4e08a46b2dea1793dba6\n",
       "experiment_id                                                              1\n",
       "status                                                              FINISHED\n",
       "artifact_uri               file:///D:/Me/Codes/Jupyter%20Notebooks/ITI%20...\n",
       "start_time                                  2021-12-06 17:17:47.911000+00:00\n",
       "end_time                                    2021-12-06 17:17:48.192000+00:00\n",
       "metrics.f1_score                                                    0.644068\n",
       "metrics.accuracy                                                    0.764925\n",
       "params.n_estimators                                                      300\n",
       "params.max_depth                                                           7\n",
       "tags.mlflow.source.name    C:\\Users\\moham\\anaconda3\\lib\\site-packages\\ipy...\n",
       "tags.mlflow.user                                                       moham\n",
       "tags.mlflow.source.type                                                LOCAL\n",
       "Name: 4, dtype: object"
      ]
     },
     "execution_count": 21,
     "metadata": {},
     "output_type": "execute_result"
    }
   ],
   "source": [
    "# Sort by error values and get the first entry\n",
    "best_run = runs.sort_values(['metrics.f1_score']).iloc[0]\n",
    "best_run"
   ]
  }
 ],
 "metadata": {
  "interpreter": {
   "hash": "9da1c12f6d354dd36d308cb51e3aa17755429bd06bf828d149e4579c59bb3701"
  },
  "kernelspec": {
   "display_name": "Python 3.8.5 64-bit ('base': conda)",
   "name": "python3"
  },
  "language_info": {
   "codemirror_mode": {
    "name": "ipython",
    "version": 3
   },
   "file_extension": ".py",
   "mimetype": "text/x-python",
   "name": "python",
   "nbconvert_exporter": "python",
   "pygments_lexer": "ipython3",
   "version": "3.8.8"
  },
  "orig_nbformat": 4
 },
 "nbformat": 4,
 "nbformat_minor": 2
}
